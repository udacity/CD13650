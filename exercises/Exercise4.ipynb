{
 "cells": [
  {
   "cell_type": "markdown",
   "id": "848523b1-cb88-4fb8-a450-dd26f44c2f6a",
   "metadata": {},
   "source": [
    "# Exercise 4"
   ]
  },
  {
   "cell_type": "markdown",
   "id": "24c1bd7b-a907-49d9-b49b-77be709131bb",
   "metadata": {},
   "source": [
    "## Question 1\n",
    "Create tables to keep track of trading positions\n",
    "\n",
    "**Hint**\n",
    "\n",
    "After each trade, we want to keep at least the following information of each traded instrument:\n",
    "1. the date and time when the trade takes place\n",
    "2. the name of the instrument traded\n",
    "3. the quantity of the instrument that we possess after the trade\n",
    "4. The amount of cash available to us for trading the instrument."
   ]
  },
  {
   "cell_type": "code",
   "execution_count": 1,
   "id": "a5325b0c-f961-486d-9e98-fdd3a808886c",
   "metadata": {},
   "outputs": [],
   "source": [
    "import sqlite3\n",
    "from contextlib import closing\n",
    "\n",
    "conn = None\n",
    "with closing(sqlite3.connect(\"SP500.db\")) as conn:\n",
    "    cs = conn.cursor();\n",
    "    cs.execute(F\"\"\"\n",
    "    create table if not exists positions (\n",
    "    time_of_trade text,\n",
    "    instrument text,\n",
    "    quantity real,\n",
    "    cash real,\n",
    "    primary key (time_of_trade, instrument)\n",
    "    );\n",
    "    \"\"\");\n"
   ]
  },
  {
   "cell_type": "markdown",
   "id": "637907f8-0e41-4cf7-ae4b-2d0d192fefae",
   "metadata": {},
   "source": [
    "## Question 2\n",
    "Choose a lookback time of 120 days and perform backtesting on the prices' from 2021-05-02 to 2021-05-31.\n",
    "\n",
    "**hint**\n",
    "\n",
    "1. On each day from 2021-05-02 to 2021-05-31, take the latest 120 days' prices before this date and calibrate a GBM model.\n",
    "2. Use the GBM model to forecast the price in 10 days:\n",
    "   $$S_{t + n\\Delta t} = S_t \\exp \\left[\n",
    "   \\left(\n",
    "   \\mu - \\frac{\\sigma^2}{2}\n",
    "   \\right)n \\Delta t\n",
    "   + W_{t + n \\Delta t} - W_t\n",
    "   \\right]$$\n",
    "The price forecast is\n",
    "$$\n",
    "\\mathbb E S_{t + n\\Delta t} = S_t \\exp \\left(\n",
    "   \\mu n \\Delta t\n",
    "\\right)\n",
    "$$\n",
    "In this case, $n=10, \\Delta t = 1/250$. Use your code from question 3 of exercise 3 to estimate the confidence interval of the forecast."
   ]
  },
  {
   "cell_type": "markdown",
   "id": "83be7ef8-cbb2-4226-95ac-7abd3cd12b53",
   "metadata": {},
   "source": [
    "3. The relative return of buying the instrument on day 0 and selling it on day 10 is approximately normally distributed with mean $(\\mu - \\frac{\\sigma^2}{2}) n \\Delta t$ and standard deviation $\\sigma \\sqrt{n \\Delta t}$. Calculate the 95% expected shortfall $ES_\\alpha$ in 10 days:\n",
    "$$ES_\\alpha = -m + s \\frac{\\phi(\\Phi^{-1}(\\alpha))}{1 - \\alpha}$$\n",
    "where $\\alpha = 0.95$ and\n",
    "$$m = \\left(\\mu - \\frac{\\sigma^2}{2} \\right) n \\Delta t$$\n",
    "$$s = \\sigma \\sqrt{n \\Delta t}$$\n",
    "$\\phi$ and $\\Phi^{-1}$ are the density and the quantile functions of the standard normal distribution, respectively. You can calculate them in Python using scipy.stats.norm.pdf and scipy.stats.norm.ppf, respectively."
   ]
  },
  {
   "cell_type": "code",
   "execution_count": 2,
   "id": "d90334aa-96d9-43c8-8de0-d6f4c9c42714",
   "metadata": {},
   "outputs": [
    {
     "name": "stdout",
     "output_type": "stream",
     "text": [
      "The 95% expected shortfall is 0.05777684885621387\n"
     ]
    }
   ],
   "source": [
    "import numpy as np\n",
    "from scipy.stats import norm\n",
    "mu = 0.0511\n",
    "sigma = 0.1440\n",
    "n = 10\n",
    "Dt = 1.0/250\n",
    "m = (mu - sigma**2/2) * n * Dt\n",
    "s = sigma * np.sqrt(n * Dt)\n",
    "\n",
    "alpha = 0.95\n",
    "ES = -m + s * norm.pdf(norm.ppf(alpha))/(1 - alpha)\n",
    "print(F\"The 95% expected shortfall is {ES}\")\n",
    "\n"
   ]
  },
  {
   "cell_type": "markdown",
   "id": "c82b8c45-d16d-4f5b-8b84-6742ba30d6cf",
   "metadata": {},
   "source": [
    "4. Devise your buy/sell signal based on the forecasted price and its confidence interval. For example, if your forecast suggests that you can be 80% sure that the price in 10 days will be higher than the current price, buy the instrument.\n"
   ]
  },
  {
   "cell_type": "code",
   "execution_count": null,
   "id": "74c423bb-e946-4082-8248-46828ff57b4b",
   "metadata": {},
   "outputs": [],
   "source": [
    "def position_size(which_day, forecast):\n",
    "    cs.execute(F\"\"\"\n",
    "    select quantity, cash from positions\n",
    "    where instrument = 'SP500'\n",
    "    and time_of_trade < '{which_day}'\n",
    "    order by time_of_trade desc\n",
    "    limit 1;\n",
    "    \"\"\")\n",
    "    qty, cash = cs.fetchall()[0]\n",
    "    cs.execute(F\"\"\"\n",
    "    select price from prices\n",
    "    where theday <= '{which_day}'\n",
    "    order by theday desc\n",
    "    limit 1;\n",
    "    \"\"\");\n",
    "    price = cs.fetchall()[0][0]\n",
    "    capital = cash + qty * price\n",
    "    if price < forecast['interval'][0]:\n",
    "        return round(capital/price)\n",
    "    elif price > forecast['interval'][1]:\n",
    "        return -round(capital/price)\n",
    "    else:\n",
    "        return 0\n"
   ]
  },
  {
   "cell_type": "markdown",
   "id": "6d251dbf-e73f-46e8-9fd3-7097065b7705",
   "metadata": {},
   "source": [
    "5. Decide your risk appetite in terms of the *Expected Shortfall*. For example, if you decide that your risk appetite is 95% expected shortfall being 5%, then the ratio of capital that you should use for the trade is $\\frac{0.05}{ES_{0.95}}$. If this figure is larger than 1, you may consider using leverage.\n"
   ]
  },
  {
   "cell_type": "markdown",
   "id": "ca503348-8ece-4cf8-b935-e85407f303eb",
   "metadata": {},
   "source": [
    "**Solution**: modify the position_size function as follows:"
   ]
  },
  {
   "cell_type": "code",
   "execution_count": null,
   "id": "86ce2116-fba2-4b4e-8046-fecd6a4a43ea",
   "metadata": {},
   "outputs": [],
   "source": [
    "def position_size(which_day, forecast, ES):\n",
    "    cs.execute(F\"\"\"\n",
    "    select quantity, cash from positions\n",
    "    where instrument = 'SP500'\n",
    "    and time_of_trade < '{which_day}'\n",
    "    order by time_of_trade desc\n",
    "    limit 1;\n",
    "    \"\"\")\n",
    "    qty, cash = cs.fetchall()[0]\n",
    "    cs.execute(F\"\"\"\n",
    "    select price from prices\n",
    "    where theday <= '{which_day}'\n",
    "    order by theday desc\n",
    "    limit 1;\n",
    "    \"\"\");\n",
    "    price = cs.fetchall()[0][0]\n",
    "    capital = cash + qty * price\n",
    "    exposure = capital * 0.05/ES\n",
    "    if price < forecast['interval'][0]:\n",
    "        return round(exposure/price)\n",
    "    elif price > forecast['interval'][1]:\n",
    "        return -round(exposure/price)\n",
    "    else:\n",
    "        return 0\n"
   ]
  },
  {
   "cell_type": "markdown",
   "id": "2a1b7ace-b8e9-4ba0-b00e-c850c690d3fb",
   "metadata": {},
   "source": [
    "6. Follow your buy/sell signals through the said time period. Store in the database the number of the instruments that you hold and the amount of your cash reserve after each trade."
   ]
  },
  {
   "cell_type": "code",
   "execution_count": 1,
   "id": "8af24dfa-b566-4fce-ac33-dacbcc6968c4",
   "metadata": {},
   "outputs": [],
   "source": [
    "def analyse(which_day):\n",
    "    cs.execute(F\"\"\"\n",
    "    select price from prices where theday <= '{which_day}'\n",
    "    order by theday desc limit 120;\n",
    "    \"\"\")\n",
    "    P = np.flipud(np.asarray(cs.fetchall())).flatten();\n",
    "    model = GBM();\n",
    "    Dt = 1.0/252;\n",
    "    model.calibrate(P, Dt);\n",
    "    confidence = 0.1\n",
    "    n = 10\n",
    "    T = n * Dt;\n",
    "    forecast = model.forecast(P[-1], T, confidence);\n",
    "\n",
    "    m = (model.mu - model.sigma**2/2) * n * Dt\n",
    "    s = model.sigma * np.sqrt(n * Dt)\n",
    "\n",
    "    alpha = 0.95\n",
    "    ES = -m + s * norm.pdf(norm.ppf(alpha))/(1 - alpha)\n",
    "    return position_size(which_day, forecast, ES);\n",
    "    \n",
    "def main(begin_on):\n",
    "    cs.execute(F\"select theday from prices where theday >= '{begin_on}';\")\n",
    "    days = [d[0] for d in cs.fetchall()]\n",
    "    asset = {\n",
    "        'old': np.nan,\n",
    "        'new': np.nan\n",
    "    };\n",
    "    cash = {\n",
    "        'old': np.nan,\n",
    "        'new': np.nan\n",
    "    };\n",
    "    cs.execute(\"delete from positions where time_of_trade > '2020-01-01';\");\n",
    "    for d in days:\n",
    "        asset['new'] = analyse(d)\n",
    "        cs.execute(F\"\"\"\n",
    "        select quantity, cash from positions\n",
    "        where time_of_trade < '{d}'\n",
    "        order by time_of_trade desc\n",
    "        limit 1;\n",
    "        \"\"\");\n",
    "        asset['old'], cash['old'] = cs.fetchall()[0];\n",
    "        cs.execute(F\"\"\"\n",
    "        select price from prices\n",
    "        where theday <= '{d}'\n",
    "        order by theday desc\n",
    "        limit 1;\n",
    "        \"\"\");\n",
    "        latest = cs.fetchall()[0][0]\n",
    "        trade_size = round(asset['new']) - round(asset['old']);\n",
    "        if trade_size != 0:\n",
    "            cash['new'] = cash['old'] - trade_size * latest;\n",
    "            cs.execute(F\"\"\"\n",
    "            insert into positions values\n",
    "            ('{d}', 'SP500', {round(asset['new'])}, {cash['new']});\n",
    "            \"\"\");\n",
    "        conn.commit();\n",
    "\n"
   ]
  },
  {
   "cell_type": "code",
   "execution_count": null,
   "id": "23ad5248-9a96-4ef5-aba7-ab0f8531042f",
   "metadata": {},
   "outputs": [],
   "source": []
  }
 ],
 "metadata": {
  "kernelspec": {
   "display_name": "Python 3 (ipykernel)",
   "language": "python",
   "name": "python3"
  },
  "language_info": {
   "codemirror_mode": {
    "name": "ipython",
    "version": 3
   },
   "file_extension": ".py",
   "mimetype": "text/x-python",
   "name": "python",
   "nbconvert_exporter": "python",
   "pygments_lexer": "ipython3",
   "version": "3.12.3"
  }
 },
 "nbformat": 4,
 "nbformat_minor": 5
}
